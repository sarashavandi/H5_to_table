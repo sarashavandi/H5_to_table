{
 "cells": [
  {
   "cell_type": "code",
   "execution_count": 6,
   "id": "bc767c8a",
   "metadata": {},
   "outputs": [
    {
     "name": "stdout",
     "output_type": "stream",
     "text": [
      "/measurements/gene_expression/celltype/average//measurements/gene_expression/celltype/average (1, 34088) float32\n",
      "/measurements/gene_expression/celltype/cell_count//measurements/gene_expression/celltype/cell_count (1,) int64\n",
      "/measurements/gene_expression/celltype/fraction//measurements/gene_expression/celltype/fraction (1, 34088) float32\n",
      "/measurements/gene_expression/celltype/index//measurements/gene_expression/celltype/index (1,) |S16\n",
      "/measurements/gene_expression/celltype/neighborhood/average//measurements/gene_expression/celltype/neighborhood/average (3, 34088) float32\n",
      "/measurements/gene_expression/celltype/neighborhood/cell_count//measurements/gene_expression/celltype/neighborhood/cell_count (3, 1) int64\n",
      "/measurements/gene_expression/celltype/neighborhood/convex_hull/0//measurements/gene_expression/celltype/neighborhood/convex_hull/0 (14, 2) float32\n",
      "/measurements/gene_expression/celltype/neighborhood/convex_hull/1//measurements/gene_expression/celltype/neighborhood/convex_hull/1 (10, 2) float32\n",
      "/measurements/gene_expression/celltype/neighborhood/convex_hull/2//measurements/gene_expression/celltype/neighborhood/convex_hull/2 (8, 2) float32\n",
      "/measurements/gene_expression/celltype/neighborhood/coords_centroid//measurements/gene_expression/celltype/neighborhood/coords_centroid (3, 2) float32\n",
      "/measurements/gene_expression/celltype/neighborhood/fraction//measurements/gene_expression/celltype/neighborhood/fraction (3, 34088) float32\n",
      "/measurements/gene_expression/celltype/neighborhood/index//measurements/gene_expression/celltype/neighborhood/index (3,) |S11\n",
      "/measurements/gene_expression/features//measurements/gene_expression/features (34088,) |S15\n"
     ]
    }
   ],
   "source": [
    "import h5py\n",
    "import pandas as pd\n",
    "\n",
    "# Step 1: Open the HDF5 file\n",
    "h5_file_path = 'compressed_parkinson.h5'\n",
    "h5file = h5py.File(h5_file_path, 'r')\n",
    "\n",
    "# Step 2: Explore the structure of the file (optional but useful)\n",
    "def print_hdf5_structure(item, path='/'):\n",
    "    if isinstance(item, h5py.Dataset):\n",
    "        print(path + item.name, item.shape, item.dtype)\n",
    "    elif isinstance(item, h5py.Group):\n",
    "        for key, val in item.items():\n",
    "            print_hdf5_structure(val, path + key + '/')\n",
    "\n",
    "print_hdf5_structure(h5file)\n"
   ]
  },
  {
   "cell_type": "code",
   "execution_count": 20,
   "id": "2440b714",
   "metadata": {},
   "outputs": [
    {
     "name": "stdout",
     "output_type": "stream",
     "text": [
      "Failed to read dataset measurements/gene_expression/celltype/average: Can't read data (can't open directory)\n",
      "Failed to read dataset measurements/gene_expression/celltype/fraction: Can't read data (can't open directory)\n",
      "Failed to read dataset measurements/gene_expression/celltype/neighborhood/average: Can't read data (can't open directory)\n",
      "Failed to read dataset measurements/gene_expression/celltype/neighborhood/convex_hull/0: Can't read data (can't open directory)\n",
      "Failed to read dataset measurements/gene_expression/celltype/neighborhood/convex_hull/1: Can't read data (can't open directory)\n",
      "Failed to read dataset measurements/gene_expression/celltype/neighborhood/convex_hull/2: Can't read data (can't open directory)\n",
      "Failed to read dataset measurements/gene_expression/celltype/neighborhood/coords_centroid: Can't read data (can't open directory)\n",
      "Failed to read dataset measurements/gene_expression/celltype/neighborhood/fraction: Can't read data (can't open directory)\n",
      "Saved measurements/gene_expression/celltype/cell_count to sheet 0\n",
      "Saved measurements/gene_expression/celltype/index to sheet 1\n",
      "Saved measurements/gene_expression/celltype/neighborhood/cell_count to sheet 2\n",
      "Saved measurements/gene_expression/celltype/neighborhood/index to sheet 3\n",
      "Saved measurements/gene_expression/features to sheet 4\n",
      "All datasets saved to output.xlsx\n"
     ]
    }
   ],
   "source": [
    "import h5py\n",
    "import pandas as pd\n",
    "import os\n",
    "\n",
    "def h5_to_dataframe(h5_file_path):\n",
    "    \"\"\"\n",
    "    Convert all datasets in an HDF5 file to a dictionary of Pandas DataFrames.\n",
    "    \n",
    "    Parameters:\n",
    "    h5_file_path (str): Path to the HDF5 file.\n",
    "    \n",
    "    Returns:\n",
    "    dict: A dictionary where keys are dataset paths and values are Pandas DataFrames.\n",
    "    \"\"\"\n",
    "    dataframes = {}\n",
    "\n",
    "    with h5py.File(h5_file_path, 'r') as h5file:\n",
    "        def extract_dataset(name, obj):\n",
    "            if isinstance(obj, h5py.Dataset):\n",
    "                try:\n",
    "                    data = obj[()]\n",
    "                    if data.ndim == 1:\n",
    "                        df = pd.DataFrame(data, columns=[name.split('/')[-1]])\n",
    "                    elif data.ndim == 2:\n",
    "                        df = pd.DataFrame(data)\n",
    "                    else:\n",
    "                        df = pd.DataFrame(data.reshape(-1, data.shape[-1]))\n",
    "                    dataframes[name] = df\n",
    "                except Exception as e:\n",
    "                    print(f\"Failed to read dataset {name}: {e}\")\n",
    "\n",
    "        h5file.visititems(extract_dataset)\n",
    "    \n",
    "    return dataframes\n",
    "\n",
    "# Example usage:\n",
    "h5_file_path = 'compressed_parkinson.h5'\n",
    "dfs = h5_to_dataframe(h5_file_path)\n",
    "\n",
    "# Save each DataFrame to a different sheet in the same Excel file\n",
    "output_excel_path = 'output.xlsx'\n",
    "count = 0\n",
    "\n",
    "with pd.ExcelWriter(output_excel_path, engine='xlsxwriter') as writer:\n",
    "    for dataset_path, df in dfs.items():\n",
    "        sheet_name = count\n",
    "        df.to_excel(writer, sheet_name=str(sheet_name), index=False)\n",
    "        count = count + 1\n",
    "        print(f\"Saved {dataset_path} to sheet {sheet_name}\")\n",
    "\n",
    "print(f\"All datasets saved to {output_excel_path}\")"
   ]
  },
  {
   "cell_type": "code",
   "execution_count": 21,
   "id": "298d172f",
   "metadata": {},
   "outputs": [
    {
     "name": "stdout",
     "output_type": "stream",
     "text": [
      "Failed to read dataset measurements/gene_expression/celltype/average: Can't read data (can't open directory)\n",
      "Failed to read dataset measurements/gene_expression/celltype/fraction: Can't read data (can't open directory)\n",
      "Failed to read dataset measurements/gene_expression/celltype/neighborhood/average: Can't read data (can't open directory)\n",
      "Failed to read dataset measurements/gene_expression/celltype/neighborhood/convex_hull/0: Can't read data (can't open directory)\n",
      "Failed to read dataset measurements/gene_expression/celltype/neighborhood/convex_hull/1: Can't read data (can't open directory)\n",
      "Failed to read dataset measurements/gene_expression/celltype/neighborhood/convex_hull/2: Can't read data (can't open directory)\n",
      "Failed to read dataset measurements/gene_expression/celltype/neighborhood/coords_centroid: Can't read data (can't open directory)\n",
      "Failed to read dataset measurements/gene_expression/celltype/neighborhood/fraction: Can't read data (can't open directory)\n"
     ]
    },
    {
     "data": {
      "text/plain": [
       "{'measurements/gene_expression/celltype/cell_count':    cell_count\n",
       " 0       14903,\n",
       " 'measurements/gene_expression/celltype/index':                  index\n",
       " 0  b'endothelial cell',\n",
       " 'measurements/gene_expression/celltype/neighborhood/cell_count':      0\n",
       " 0   99\n",
       " 1  145\n",
       " 2   56,\n",
       " 'measurements/gene_expression/celltype/neighborhood/index':   index\n",
       " 0  b'0'\n",
       " 1  b'1'\n",
       " 2  b'2',\n",
       " 'measurements/gene_expression/features':                  features\n",
       " 0      b'ENSG00000237613'\n",
       " 1      b'ENSG00000186092'\n",
       " 2      b'ENSG00000238009'\n",
       " 3      b'ENSG00000239945'\n",
       " 4      b'ENSG00000239906'\n",
       " ...                   ...\n",
       " 34083  b'ENSG00000202490'\n",
       " 34084  b'ENSG00000212459'\n",
       " 34085  b'ENSG00000202497'\n",
       " 34086  b'ENSG00000263858'\n",
       " 34087  b'ENSG00000264309'\n",
       " \n",
       " [34088 rows x 1 columns]}"
      ]
     },
     "execution_count": 21,
     "metadata": {},
     "output_type": "execute_result"
    }
   ],
   "source": [
    "def h5_to_dataframe(h5_file_path):\n",
    "    \"\"\"\n",
    "    Convert all datasets in an HDF5 file to a dictionary of Pandas DataFrames.\n",
    "\n",
    "    This function reads an HDF5 file and converts each dataset into a Pandas DataFrame.\n",
    "    The resulting DataFrames are stored in a dictionary where the keys are the dataset paths\n",
    "    and the values are the corresponding DataFrames.\n",
    "\n",
    "    Args:\n",
    "        h5_file_path (str): Path to the HDF5 file.\n",
    "\n",
    "    Returns:\n",
    "        dict: A dictionary where keys are dataset paths (str) and values are Pandas DataFrames.\n",
    "        \n",
    "    Raises:\n",
    "        OSError: If the file cannot be opened.\n",
    "        KeyError: If there is an issue accessing a dataset.\n",
    "        Exception: For any other issues encountered during dataset reading.\n",
    "\n",
    "    Example:\n",
    "        >>> dfs = h5_to_dataframe('path_to_your_file.h5')\n",
    "        >>> for path, df in dfs.items():\n",
    "        >>>     print(f\"Dataset {path} has shape {df.shape}\")\n",
    "    \"\"\"\n",
    "    dataframes = {}\n",
    "\n",
    "    try:\n",
    "        with h5py.File(h5_file_path, 'r') as h5file:\n",
    "            def extract_dataset(name, obj):\n",
    "                if isinstance(obj, h5py.Dataset):\n",
    "                    try:\n",
    "                        data = obj[()]\n",
    "                        if data.ndim == 1:\n",
    "                            df = pd.DataFrame(data, columns=[name.split('/')[-1]])\n",
    "                        elif data.ndim == 2:\n",
    "                            df = pd.DataFrame(data)\n",
    "                        else:\n",
    "                            df = pd.DataFrame(data.reshape(-1, data.shape[-1]))\n",
    "                        dataframes[name] = df\n",
    "                    except Exception as e:\n",
    "                        print(f\"Failed to read dataset {name}: {e}\")\n",
    "\n",
    "            h5file.visititems(extract_dataset)\n",
    "    except OSError as e:\n",
    "        print(f\"Error opening file: {e}\")\n",
    "        raise\n",
    "    except KeyError as e:\n",
    "        print(f\"Dataset path error: {e}\")\n",
    "        raise\n",
    "    except Exception as e:\n",
    "        print(f\"Unexpected error: {e}\")\n",
    "        raise\n",
    "\n",
    "    return dataframes\n",
    "\n",
    "# Example usage:\n",
    "h5_file_path = 'compressed_parkinson.h5'\n",
    "dfs = h5_to_dataframe(h5_file_path)\n",
    "dfs"
   ]
  },
  {
   "cell_type": "code",
   "execution_count": 23,
   "id": "16fee0b2",
   "metadata": {},
   "outputs": [],
   "source": [
    "??h5_to_dataframe"
   ]
  },
  {
   "cell_type": "code",
   "execution_count": null,
   "id": "706cffcf",
   "metadata": {},
   "outputs": [],
   "source": []
  },
  {
   "cell_type": "code",
   "execution_count": null,
   "id": "766caaff",
   "metadata": {},
   "outputs": [],
   "source": []
  },
  {
   "cell_type": "code",
   "execution_count": null,
   "id": "a347092a",
   "metadata": {},
   "outputs": [],
   "source": []
  },
  {
   "cell_type": "code",
   "execution_count": null,
   "id": "42d8ad10",
   "metadata": {},
   "outputs": [],
   "source": []
  },
  {
   "cell_type": "code",
   "execution_count": null,
   "id": "b6a3b86e",
   "metadata": {},
   "outputs": [],
   "source": []
  },
  {
   "cell_type": "code",
   "execution_count": null,
   "id": "88f6ef68",
   "metadata": {},
   "outputs": [],
   "source": []
  },
  {
   "cell_type": "code",
   "execution_count": null,
   "id": "fb91d7fa",
   "metadata": {},
   "outputs": [],
   "source": []
  },
  {
   "cell_type": "code",
   "execution_count": null,
   "id": "1efd7c5a",
   "metadata": {},
   "outputs": [],
   "source": []
  }
 ],
 "metadata": {
  "kernelspec": {
   "display_name": "Python 3 (ipykernel)",
   "language": "python",
   "name": "python3"
  },
  "language_info": {
   "codemirror_mode": {
    "name": "ipython",
    "version": 3
   },
   "file_extension": ".py",
   "mimetype": "text/x-python",
   "name": "python",
   "nbconvert_exporter": "python",
   "pygments_lexer": "ipython3",
   "version": "3.11.5"
  }
 },
 "nbformat": 4,
 "nbformat_minor": 5
}
